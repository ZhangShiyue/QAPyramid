{
 "cells": [
  {
   "cell_type": "code",
   "execution_count": 21,
   "id": "6006cafd-987a-441a-8ec0-07b5545dd163",
   "metadata": {},
   "outputs": [
    {
     "name": "stdout",
     "output_type": "stream",
     "text": [
      "Requirement already satisfied: datasets in /Users/shiyue/Documents/code/testeven/lib/python3.9/site-packages (2.20.0)\n",
      "Requirement already satisfied: filelock in /Users/shiyue/Documents/code/testeven/lib/python3.9/site-packages (from datasets) (3.15.4)\n",
      "Requirement already satisfied: numpy>=1.17 in /Users/shiyue/Documents/code/testeven/lib/python3.9/site-packages (from datasets) (2.0.1)\n",
      "Requirement already satisfied: pyarrow>=15.0.0 in /Users/shiyue/Documents/code/testeven/lib/python3.9/site-packages (from datasets) (17.0.0)\n",
      "Requirement already satisfied: pyarrow-hotfix in /Users/shiyue/Documents/code/testeven/lib/python3.9/site-packages (from datasets) (0.6)\n",
      "Requirement already satisfied: dill<0.3.9,>=0.3.0 in /Users/shiyue/Documents/code/testeven/lib/python3.9/site-packages (from datasets) (0.3.8)\n",
      "Requirement already satisfied: pandas in /Users/shiyue/Documents/code/testeven/lib/python3.9/site-packages (from datasets) (2.2.2)\n",
      "Requirement already satisfied: requests>=2.32.2 in /Users/shiyue/Documents/code/testeven/lib/python3.9/site-packages (from datasets) (2.32.3)\n",
      "Requirement already satisfied: tqdm>=4.66.3 in /Users/shiyue/Documents/code/testeven/lib/python3.9/site-packages (from datasets) (4.66.4)\n",
      "Requirement already satisfied: xxhash in /Users/shiyue/Documents/code/testeven/lib/python3.9/site-packages (from datasets) (3.4.1)\n",
      "Requirement already satisfied: multiprocess in /Users/shiyue/Documents/code/testeven/lib/python3.9/site-packages (from datasets) (0.70.16)\n",
      "Requirement already satisfied: fsspec<=2024.5.0,>=2023.1.0 in /Users/shiyue/Documents/code/testeven/lib/python3.9/site-packages (from fsspec[http]<=2024.5.0,>=2023.1.0->datasets) (2024.5.0)\n",
      "Requirement already satisfied: aiohttp in /Users/shiyue/Documents/code/testeven/lib/python3.9/site-packages (from datasets) (3.9.5)\n",
      "Requirement already satisfied: huggingface-hub>=0.21.2 in /Users/shiyue/Documents/code/testeven/lib/python3.9/site-packages (from datasets) (0.24.0)\n",
      "Requirement already satisfied: packaging in /Users/shiyue/Documents/code/testeven/lib/python3.9/site-packages (from datasets) (24.1)\n",
      "Requirement already satisfied: pyyaml>=5.1 in /Users/shiyue/Documents/code/testeven/lib/python3.9/site-packages (from datasets) (6.0.1)\n",
      "Requirement already satisfied: aiosignal>=1.1.2 in /Users/shiyue/Documents/code/testeven/lib/python3.9/site-packages (from aiohttp->datasets) (1.3.1)\n",
      "Requirement already satisfied: attrs>=17.3.0 in /Users/shiyue/Documents/code/testeven/lib/python3.9/site-packages (from aiohttp->datasets) (23.2.0)\n",
      "Requirement already satisfied: frozenlist>=1.1.1 in /Users/shiyue/Documents/code/testeven/lib/python3.9/site-packages (from aiohttp->datasets) (1.4.1)\n",
      "Requirement already satisfied: multidict<7.0,>=4.5 in /Users/shiyue/Documents/code/testeven/lib/python3.9/site-packages (from aiohttp->datasets) (6.0.5)\n",
      "Requirement already satisfied: yarl<2.0,>=1.0 in /Users/shiyue/Documents/code/testeven/lib/python3.9/site-packages (from aiohttp->datasets) (1.9.4)\n",
      "Requirement already satisfied: async-timeout<5.0,>=4.0 in /Users/shiyue/Documents/code/testeven/lib/python3.9/site-packages (from aiohttp->datasets) (4.0.3)\n",
      "Requirement already satisfied: typing-extensions>=3.7.4.3 in /Users/shiyue/Documents/code/testeven/lib/python3.9/site-packages (from huggingface-hub>=0.21.2->datasets) (4.12.2)\n",
      "Requirement already satisfied: charset-normalizer<4,>=2 in /Users/shiyue/Documents/code/testeven/lib/python3.9/site-packages (from requests>=2.32.2->datasets) (3.3.2)\n",
      "Requirement already satisfied: idna<4,>=2.5 in /Users/shiyue/Documents/code/testeven/lib/python3.9/site-packages (from requests>=2.32.2->datasets) (3.7)\n",
      "Requirement already satisfied: urllib3<3,>=1.21.1 in /Users/shiyue/Documents/code/testeven/lib/python3.9/site-packages (from requests>=2.32.2->datasets) (2.2.2)\n",
      "Requirement already satisfied: certifi>=2017.4.17 in /Users/shiyue/Documents/code/testeven/lib/python3.9/site-packages (from requests>=2.32.2->datasets) (2024.7.4)\n",
      "Requirement already satisfied: python-dateutil>=2.8.2 in /Users/shiyue/Documents/code/testeven/lib/python3.9/site-packages (from pandas->datasets) (2.9.0.post0)\n",
      "Requirement already satisfied: pytz>=2020.1 in /Users/shiyue/Documents/code/testeven/lib/python3.9/site-packages (from pandas->datasets) (2024.1)\n",
      "Requirement already satisfied: tzdata>=2022.7 in /Users/shiyue/Documents/code/testeven/lib/python3.9/site-packages (from pandas->datasets) (2024.1)\n",
      "Requirement already satisfied: six>=1.5 in /Users/shiyue/Documents/code/testeven/lib/python3.9/site-packages (from python-dateutil>=2.8.2->pandas->datasets) (1.16.0)\n",
      "Note: you may need to restart the kernel to use updated packages.\n",
      "Requirement already satisfied: numpy in /Users/shiyue/Documents/code/testeven/lib/python3.9/site-packages (2.0.1)\n",
      "Note: you may need to restart the kernel to use updated packages.\n",
      "Requirement already satisfied: tabulate in /Users/shiyue/Documents/code/testeven/lib/python3.9/site-packages (0.9.0)\n",
      "Note: you may need to restart the kernel to use updated packages.\n",
      "Requirement already satisfied: scipy in /Users/shiyue/Documents/code/testeven/lib/python3.9/site-packages (1.13.1)\n",
      "Requirement already satisfied: numpy<2.3,>=1.22.4 in /Users/shiyue/Documents/code/testeven/lib/python3.9/site-packages (from scipy) (2.0.1)\n",
      "Note: you may need to restart the kernel to use updated packages.\n"
     ]
    }
   ],
   "source": [
    "%pip install datasets\n",
    "%pip install numpy\n",
    "%pip install tabulate\n",
    "%pip install scipy"
   ]
  },
  {
   "cell_type": "code",
   "execution_count": 2,
   "id": "043b2374-579e-4390-a8ca-bbbd2590a656",
   "metadata": {},
   "outputs": [
    {
     "name": "stderr",
     "output_type": "stream",
     "text": [
      "/Users/shiyue/Documents/code/testeven/lib/python3.9/site-packages/urllib3/__init__.py:35: NotOpenSSLWarning: urllib3 v2 only supports OpenSSL 1.1.1+, currently the 'ssl' module is compiled with 'LibreSSL 2.8.3'. See: https://github.com/urllib3/urllib3/issues/3020\n",
      "  warnings.warn(\n",
      "/Users/shiyue/Documents/code/testeven/lib/python3.9/site-packages/tqdm/auto.py:21: TqdmWarning: IProgress not found. Please update jupyter and ipywidgets. See https://ipywidgets.readthedocs.io/en/stable/user_install.html\n",
      "  from .autonotebook import tqdm as notebook_tqdm\n"
     ]
    }
   ],
   "source": [
    "from datasets import load_dataset\n",
    "from tabulate import tabulate\n",
    "import json\n",
    "import numpy as np"
   ]
  },
  {
   "cell_type": "markdown",
   "id": "70a8fe9a-36fb-40be-906f-dd2980a72034",
   "metadata": {},
   "source": [
    "## Load QAPyramid Data"
   ]
  },
  {
   "cell_type": "code",
   "execution_count": 3,
   "id": "e4887d37-1c9f-45cc-aeb3-402b7fabbb85",
   "metadata": {},
   "outputs": [],
   "source": [
    "dataset = load_dataset(\"shiyue/QAPyramid\")[\"cnndm_test\"]"
   ]
  },
  {
   "cell_type": "code",
   "execution_count": 4,
   "id": "01e32ff1-1d54-4624-822c-d7fff6fe59da",
   "metadata": {},
   "outputs": [
    {
     "data": {
      "text/plain": [
       "Dataset({\n",
       "    features: ['example_id', 'source', 'reference', 'QAs', 'QA_labels', 'system_outputs', 'system_scores'],\n",
       "    num_rows: 500\n",
       "})"
      ]
     },
     "execution_count": 4,
     "metadata": {},
     "output_type": "execute_result"
    }
   ],
   "source": [
    "dataset"
   ]
  },
  {
   "cell_type": "code",
   "execution_count": 5,
   "id": "c1dc52d4-1502-4dd9-bca2-5928d165fae4",
   "metadata": {},
   "outputs": [
    {
     "data": {
      "text/plain": [
       "{'example_id': '000571afe702684d90c1d222ce70b1e1375c1016',\n",
       " 'source': \"Club Tijuana star Juan Arango conjured memories Luis Suarez in his team's 4-3 defeat by Monterrey in the Mexican league - but it was not through prodigious scoring. The Venezuelan icon Arango sank his teeth into the shoulder of Jesus Zavela as his temper flared in the defeat. He was not booked by the referee but could face a heavy retrospective ban. Juan Arango (left) bites the shoulder of opponent Jesus Zavela in a moment of madness . Zavala holds his shoulder after being bitten by Arango, in the game Zavala's side won 4-3 in Mexico . Zavala shows the referee the mark on his shoulder after being bittern by Arango . Arango (right) earlier scored a magnificent free kick to bring his Club Tijuana team level against Monterrey . Arango had earlier curled in a magnificent free kick for his team to bring them level after falling 2-0 down early on in the encounter. But the 34-year-old overshadowed his goal with the bite as television cameras picked up the moment of madness. Arango spent 10 years playing in Europe, spending five seasons each at Real Mallorca in Spain and Borussia Monchengladbach in Germany. He has made 121 appearances for Venezuela.\",\n",
       " 'reference': \"Juan Arango escaped punishment from the referee for biting Jesus Zavela . He could face a retrospective punishment for the incident . Arango had earlier scored a free kick in his team's 4-3 defeat .\",\n",
       " 'QAs': ['Who escaped from something? Juan Arango',\n",
       "  'What did someone escape from? punishment from the referee for biting Jesus Zavela',\n",
       "  'Who was biting someone? Juan Arango',\n",
       "  'Who was someone biting? Jesus Zavela',\n",
       "  'Who might face something? He',\n",
       "  'What might someone face? a retrospective punishment',\n",
       "  'Why might someone face something? for the incident',\n",
       "  'Who scored something? Arango',\n",
       "  'When did someone score something? earlier',\n",
       "  'What did someone score? a free kick',\n",
       "  \"Where did someone score something? in his team 's 4 - 3 defeat\"],\n",
       " 'QA_labels': {'bart': [1, 1, 1, 1, 1, 1, 1, 1, 1, 1, 1],\n",
       "  'pegasus': [1, 0, 0, 0, 1, 1, 1, 1, 1, 1, 1],\n",
       "  'brio': [0, 0, 1, 1, 1, 1, 1, 1, 1, 1, 1],\n",
       "  'brio-ext': [1, 1, 1, 1, 1, 1, 1, 1, 1, 1, 0],\n",
       "  'matchsum': [0, 0, 1, 1, 0, 0, 0, 0, 0, 0, 0],\n",
       "  'mixtral-8x22b-instruct-v0.1': [1, 1, 1, 1, 1, 1, 1, 1, 1, 1, 1],\n",
       "  'llama-3-8b-instruct': [0, 0, 1, 1, 1, 1, 1, 1, 1, 1, 0],\n",
       "  'GPT4': [1, 0, 1, 1, 1, 1, 1, 1, 1, 1, 1],\n",
       "  'llama-3-70b-instruct': [1, 1, 1, 1, 1, 1, 1, 1, 1, 1, 1],\n",
       "  'mixtral-8x7b-instruct-v0.1': [1, 1, 1, 1, 1, 1, 1, 1, 1, 1, 1]},\n",
       " 'system_outputs': {'bart': \"Juan Arango bites Jesus Zavela in a moment of madness in Club Tijuana's 4-3 defeat by Monterrey in the Mexican league. The Venezuelan icon sank his teeth into the shoulder of the opponent as his temper flared in the defeat. He was not booked by the referee but could face a heavy retrospective ban. Arango had earlier curled in a magnificent free kick for his team to bring them level after falling 2-0 down.\",\n",
       "  'pegasus': 'Club Tijuana lost 4-3 to Monterrey in the Mexican league. Juan Arango was not booked but could face a heavy retrospective ban. A Arango free kick had brought his team level at 2-2.',\n",
       "  'brio': \"Juan Arango bites the shoulder of opponent Jesus Zavela in the Mexican league. The Club Tijuana star earlier scored a magnificent free kick to bring his team level against Monterrey\\xa0. The Venezuelan icon could face a retrospective ban for the bite. Arango's side lost the game 4-3 in Mexico.\",\n",
       "  'brio-ext': 'He was not booked by the referee but could face a heavy retrospective ban. Juan Arango (left) bites the shoulder of opponent Jesus Zavela in a moment of madness. Arango (right) earlier scored a magnificent free kick to bring his Club Tijuana team level against Monterrey.',\n",
       "  'matchsum': \"Club Tijuana star Juan Arango conjured memories Luis Suarez in his team's 4-3 defeat by Monterrey in the Mexican league - but it was not through prodigious scoring. Juan Arango (left) bites the shoulder of opponent Jesus Zavela in a moment of madness.\",\n",
       "  'mixtral-8x22b-instruct-v0.1': \"Juan Arango bit Jesus Zavela in Club Tijuana's 4-3 defeat by Monterrey in the Mexican league . The Venezuelan was not booked by the referee but could face a heavy retrospective ban . Arango had earlier scored a magnificent free kick to bring his team level at 2-2.\",\n",
       "  'llama-3-8b-instruct': ' Juan Arango, a star player for Club Tijuana, was involved in a biting incident during a Mexican league match against Monterrey . Arango, who had earlier scored a magnificent free kick, sank his teeth into the shoulder of Jesus Zavela in a moment of anger . The incident could result in a heavy retrospective ban for Arango, who has played for clubs in Spain and Germany during his 10-year European stint.',\n",
       "  'GPT4': \"Juan Arango of Club Tijuana bit the shoulder of Jesus Zavela during a 4-3 defeat to Monterrey in the Mexican league, an act reminiscent of Luis Suarez's infamous behavior. Despite not being booked during the match, Arango faces the possibility of a significant retrospective ban for his actions. Earlier in the game, Arango had scored a stunning free kick to level the score after his team initially fell behind 2-0.\",\n",
       "  'llama-3-70b-instruct': \" Juan Arango, a Venezuelan footballer, bit an opponent, Jesus Zavela, during a Mexican league match between Club Tijuana and Monterrey . Arango's team lost 4-3, and he could face a retrospective ban for his actions, despite not being booked by the referee . Earlier in the game, Arango had scored a magnificent free kick to bring his team level after they fell 2-0 behind .\",\n",
       "  'mixtral-8x7b-instruct-v0.1': 'Club Tijuana star Juan Arango bit the shoulder of Jesus Zavela in a game against Monterrey in the Mexican league . Arango was not booked by the referee but could face a heavy retrospective ban . Arango had earlier scored a magnificent free kick for his team in the 4-3 defeat.'},\n",
       " 'system_scores': {'bart': {'QAPyramid': 1.0,\n",
       "   'nQAPyramid': 0.8194891881817862,\n",
       "   'p_r': 1.0,\n",
       "   'p_l': 0.8194891881817862,\n",
       "   'R1_recall': 0.7941176470588235,\n",
       "   'R1_f1': 0.48648648648648657,\n",
       "   'R2_recall': 0.3939393939393939,\n",
       "   'R2_f1': 0.23853211009174313,\n",
       "   'RL_recall': 0.5294117647058824,\n",
       "   'RL_f1': 0.32432432432432434,\n",
       "   'ACU': 1.0,\n",
       "   'nACU': 0.5503382086753845,\n",
       "   'BERTScore_recall': 0.9137580990791321,\n",
       "   'BERTScore_f1': 0.8936258554458618,\n",
       "   'BARTScore': -2.3022260665893555,\n",
       "   'Lite3Pyramid': 0.9087001581986746,\n",
       "   'Lite2Pyramid_w_ACU': 0.8537822246551514,\n",
       "   'AutoACU_recall': 0.8888888888888888,\n",
       "   'AutoACU_f1': 0.2944785275797207,\n",
       "   'METEOR': 0.44011874661368977,\n",
       "   'ChrF': 42.79232909725294,\n",
       "   'SemiAutoACU': 1.0,\n",
       "   'GEval': 4,\n",
       "   'AutoQAPyramid': 0.9166666666666666,\n",
       "   'SemiAutoQAPyramid': 1.0,\n",
       "   'nAutoQAPyramid': 0.7511984224999706,\n",
       "   'nSemiAutoQAPyramid': 0.8194891881817862},\n",
       "  'pegasus': {'QAPyramid': 0.7272727272727273,\n",
       "   'nQAPyramid': 0.7272727272727273,\n",
       "   'p_r': 1.0,\n",
       "   'p_l': 1.0,\n",
       "   'R1_recall': 0.5,\n",
       "   'R1_f1': 0.49275362318840576,\n",
       "   'R2_recall': 0.18181818181818182,\n",
       "   'R2_f1': 0.17910447761194032,\n",
       "   'RL_recall': 0.3235294117647059,\n",
       "   'RL_f1': 0.31884057971014496,\n",
       "   'ACU': 0.30000001192092896,\n",
       "   'nACU': 0.30000001192092896,\n",
       "   'BERTScore_recall': 0.8843023777008057,\n",
       "   'BERTScore_f1': 0.8842813372612,\n",
       "   'BARTScore': -3.365424156188965,\n",
       "   'Lite3Pyramid': 0.48083322241048637,\n",
       "   'Lite2Pyramid_w_ACU': 0.732949923365959,\n",
       "   'AutoACU_recall': 0.4444444444444444,\n",
       "   'AutoACU_f1': 0.21621621617940104,\n",
       "   'METEOR': 0.27987677971713726,\n",
       "   'ChrF': 28.188144071409095,\n",
       "   'SemiAutoACU': 0.6,\n",
       "   'GEval': 2,\n",
       "   'AutoQAPyramid': 0.5833333333333334,\n",
       "   'SemiAutoQAPyramid': 0.5454545454545454,\n",
       "   'nAutoQAPyramid': 0.5833333333333334,\n",
       "   'nSemiAutoQAPyramid': 0.5454545454545454},\n",
       "  'brio': {'QAPyramid': 0.8181818181818182,\n",
       "   'nQAPyramid': 0.7527636119694464,\n",
       "   'p_r': 1.0,\n",
       "   'p_l': 0.9200444146293233,\n",
       "   'R1_recall': 0.7058823529411765,\n",
       "   'R1_f1': 0.5647058823529412,\n",
       "   'R2_recall': 0.3333333333333333,\n",
       "   'R2_f1': 0.26506024096385544,\n",
       "   'RL_recall': 0.47058823529411764,\n",
       "   'RL_f1': 0.3764705882352941,\n",
       "   'ACU': 0.800000011920929,\n",
       "   'nACU': 0.6230406165122986,\n",
       "   'BERTScore_recall': 0.9076136946678162,\n",
       "   'BERTScore_f1': 0.8964931964874268,\n",
       "   'BARTScore': -2.292257308959961,\n",
       "   'Lite3Pyramid': 0.6831403111573309,\n",
       "   'Lite2Pyramid_w_ACU': 0.7658860041759908,\n",
       "   'AutoACU_recall': 0.6666666666666666,\n",
       "   'AutoACU_f1': 0.3636363635966942,\n",
       "   'METEOR': 0.36134814814814814,\n",
       "   'ChrF': 39.845091194895176,\n",
       "   'SemiAutoACU': 0.8,\n",
       "   'GEval': 4,\n",
       "   'AutoQAPyramid': 0.6666666666666666,\n",
       "   'SemiAutoQAPyramid': 0.7272727272727273,\n",
       "   'nAutoQAPyramid': 0.6133629430862155,\n",
       "   'nSemiAutoQAPyramid': 0.6691232106395079},\n",
       "  'brio-ext': {'QAPyramid': 0.9090909090909091,\n",
       "   'nQAPyramid': 0.8402852314706903,\n",
       "   'p_r': 1.0,\n",
       "   'p_l': 0.9243137546177594,\n",
       "   'R1_recall': 0.6470588235294118,\n",
       "   'R1_f1': 0.55,\n",
       "   'R2_recall': 0.24242424242424243,\n",
       "   'R2_f1': 0.20512820512820512,\n",
       "   'RL_recall': 0.4411764705882353,\n",
       "   'RL_f1': 0.375,\n",
       "   'ACU': 0.5,\n",
       "   'nACU': 0.39484646916389465,\n",
       "   'BERTScore_recall': 0.9051980376243591,\n",
       "   'BERTScore_f1': 0.8933744430541992,\n",
       "   'BARTScore': -2.424098014831543,\n",
       "   'Lite3Pyramid': 0.7626084263126055,\n",
       "   'Lite2Pyramid_w_ACU': 0.5376861258991994,\n",
       "   'AutoACU_recall': 0.5555555555555556,\n",
       "   'AutoACU_f1': 0.29411764701989623,\n",
       "   'METEOR': 0.36201855287569573,\n",
       "   'ChrF': 39.742304692048464,\n",
       "   'SemiAutoACU': 0.6,\n",
       "   'GEval': 4,\n",
       "   'AutoQAPyramid': 0.9166666666666666,\n",
       "   'SemiAutoQAPyramid': 0.9090909090909091,\n",
       "   'nAutoQAPyramid': 0.8472876083996128,\n",
       "   'nSemiAutoQAPyramid': 0.8402852314706903},\n",
       "  'matchsum': {'QAPyramid': 0.18181818181818182,\n",
       "   'nQAPyramid': 0.171992630710321,\n",
       "   'p_r': 1.0,\n",
       "   'p_l': 0.9459594689067655,\n",
       "   'R1_recall': 0.5,\n",
       "   'R1_f1': 0.4358974358974359,\n",
       "   'R2_recall': 0.24242424242424243,\n",
       "   'R2_f1': 0.2105263157894737,\n",
       "   'RL_recall': 0.2647058823529412,\n",
       "   'RL_f1': 0.23076923076923078,\n",
       "   'ACU': 0.4000000059604645,\n",
       "   'nACU': 0.33859267830848694,\n",
       "   'BERTScore_recall': 0.8716121315956116,\n",
       "   'BERTScore_f1': 0.863936185836792,\n",
       "   'BARTScore': -3.69429349899292,\n",
       "   'Lite3Pyramid': 0.18734135991689982,\n",
       "   'Lite2Pyramid_w_ACU': 0.40516212053917117,\n",
       "   'AutoACU_recall': 0.2222222222222222,\n",
       "   'AutoACU_f1': 0.2105263157396122,\n",
       "   'METEOR': 0.23954431960049938,\n",
       "   'ChrF': 31.863550005217384,\n",
       "   'SemiAutoACU': 0.4,\n",
       "   'GEval': 2,\n",
       "   'AutoQAPyramid': 0.25,\n",
       "   'SemiAutoQAPyramid': 0.3,\n",
       "   'nAutoQAPyramid': 0.23648986722669138,\n",
       "   'nSemiAutoQAPyramid': 0.28378784067202967},\n",
       "  'mixtral-8x22b-instruct-v0.1': {'QAPyramid': 1.0,\n",
       "   'nQAPyramid': 0.9372410104578182,\n",
       "   'p_r': 1.0,\n",
       "   'p_l': 0.9372410104578182,\n",
       "   'R1_recall': 0.7352941176470589,\n",
       "   'R1_f1': 0.6024096385542169,\n",
       "   'R2_recall': 0.42424242424242425,\n",
       "   'R2_f1': 0.345679012345679,\n",
       "   'RL_recall': 0.5,\n",
       "   'RL_f1': 0.4096385542168675,\n",
       "   'BERTScore_recall': 0.9355925917625427,\n",
       "   'BERTScore_f1': 0.9178662300109863,\n",
       "   'BARTScore': -2.05130672454834,\n",
       "   'Lite3Pyramid': 0.8728301922480265,\n",
       "   'Lite2Pyramid_w_ACU': 0.8402348577976226,\n",
       "   'AutoACU_recall': 0.8888888888888888,\n",
       "   'AutoACU_f1': 0.3902439024047591,\n",
       "   'METEOR': 0.4408640951620498,\n",
       "   'ChrF': 43.15685073656053,\n",
       "   'SemiAutoACU': 1.0,\n",
       "   'GEval': 4,\n",
       "   'AutoQAPyramid': 1.0,\n",
       "   'SemiAutoQAPyramid': 1.0,\n",
       "   'nAutoQAPyramid': 0.9372410104578182,\n",
       "   'nSemiAutoQAPyramid': 0.9372410104578182},\n",
       "  'llama-3-8b-instruct': {'QAPyramid': 0.7272727272727273,\n",
       "   'nQAPyramid': 0.6015362099667497,\n",
       "   'p_r': 1.0,\n",
       "   'p_l': 0.8271122887042809,\n",
       "   'R1_recall': 0.6470588235294118,\n",
       "   'R1_f1': 0.4230769230769231,\n",
       "   'R2_recall': 0.21212121212121213,\n",
       "   'R2_f1': 0.1372549019607843,\n",
       "   'RL_recall': 0.4117647058823529,\n",
       "   'RL_f1': 0.2692307692307692,\n",
       "   'BERTScore_recall': 0.9090979695320129,\n",
       "   'BERTScore_f1': 0.8899176120758057,\n",
       "   'BARTScore': -2.527628183364868,\n",
       "   'Lite3Pyramid': 0.5230958035293346,\n",
       "   'Lite2Pyramid_w_ACU': 0.4603385178168537,\n",
       "   'AutoACU_recall': 0.4444444444444444,\n",
       "   'AutoACU_f1': 0.13114754095845205,\n",
       "   'METEOR': 0.3124547069271759,\n",
       "   'ChrF': 38.82776091135909,\n",
       "   'SemiAutoACU': 0.5,\n",
       "   'GEval': 4,\n",
       "   'AutoQAPyramid': 0.6666666666666666,\n",
       "   'SemiAutoQAPyramid': 0.7,\n",
       "   'nAutoQAPyramid': 0.5514081924695206,\n",
       "   'nSemiAutoQAPyramid': 0.5789786020929966},\n",
       "  'GPT4': {'QAPyramid': 0.9090909090909091,\n",
       "   'nQAPyramid': 0.7519202624584371,\n",
       "   'p_r': 1.0,\n",
       "   'p_l': 0.8271122887042809,\n",
       "   'R1_recall': 0.7058823529411765,\n",
       "   'R1_f1': 0.44859813084112143,\n",
       "   'R2_recall': 0.24242424242424243,\n",
       "   'R2_f1': 0.15238095238095237,\n",
       "   'RL_recall': 0.5294117647058824,\n",
       "   'RL_f1': 0.3364485981308411,\n",
       "   'BERTScore_recall': 0.9135563969612122,\n",
       "   'BERTScore_f1': 0.8968533277511597,\n",
       "   'BARTScore': -2.3293609619140625,\n",
       "   'Lite3Pyramid': 0.7542439759708941,\n",
       "   'Lite2Pyramid_w_ACU': 0.7486032285727561,\n",
       "   'AutoACU_recall': 0.6666666666666666,\n",
       "   'AutoACU_f1': 0.13793103446420926,\n",
       "   'METEOR': 0.32192291927228395,\n",
       "   'ChrF': 37.013860007303386,\n",
       "   'SemiAutoACU': 0.8,\n",
       "   'GEval': 4,\n",
       "   'AutoQAPyramid': 1.0,\n",
       "   'SemiAutoQAPyramid': 0.9090909090909091,\n",
       "   'nAutoQAPyramid': 0.8271122887042809,\n",
       "   'nSemiAutoQAPyramid': 0.7519202624584371},\n",
       "  'llama-3-70b-instruct': {'QAPyramid': 1.0,\n",
       "   'nQAPyramid': 0.8425718855535911,\n",
       "   'p_r': 1.0,\n",
       "   'p_l': 0.8425718855535911,\n",
       "   'R1_recall': 0.7647058823529411,\n",
       "   'R1_f1': 0.5252525252525253,\n",
       "   'R2_recall': 0.36363636363636365,\n",
       "   'R2_f1': 0.24742268041237112,\n",
       "   'RL_recall': 0.5588235294117647,\n",
       "   'RL_f1': 0.3838383838383838,\n",
       "   'BERTScore_recall': 0.9337979555130005,\n",
       "   'BERTScore_f1': 0.9093097448348999,\n",
       "   'BARTScore': -2.075192928314209,\n",
       "   'Lite3Pyramid': 0.8661588629086813,\n",
       "   'Lite2Pyramid_w_ACU': 0.8035295303910971,\n",
       "   'AutoACU_recall': 0.8888888888888888,\n",
       "   'AutoACU_f1': 0.6075949366638679,\n",
       "   'METEOR': 0.42264110474243366,\n",
       "   'ChrF': 41.53407287045245,\n",
       "   'SemiAutoACU': 1.0,\n",
       "   'GEval': 4,\n",
       "   'AutoQAPyramid': 0.9166666666666666,\n",
       "   'SemiAutoQAPyramid': 0.9090909090909091,\n",
       "   'nAutoQAPyramid': 0.7723575617574585,\n",
       "   'nSemiAutoQAPyramid': 0.7659744414123555},\n",
       "  'mixtral-8x7b-instruct-v0.1': {'QAPyramid': 1.0,\n",
       "   'nQAPyramid': 0.9286029058931803,\n",
       "   'p_r': 1.0,\n",
       "   'p_l': 0.9286029058931803,\n",
       "   'R1_recall': 0.7352941176470589,\n",
       "   'R1_f1': 0.5952380952380952,\n",
       "   'R2_recall': 0.3939393939393939,\n",
       "   'R2_f1': 0.3170731707317074,\n",
       "   'RL_recall': 0.6176470588235294,\n",
       "   'RL_f1': 0.5,\n",
       "   'BERTScore_recall': 0.9360847473144531,\n",
       "   'BERTScore_f1': 0.9185546636581421,\n",
       "   'BARTScore': -1.8913073539733887,\n",
       "   'Lite3Pyramid': 0.9513238072395325,\n",
       "   'Lite2Pyramid_w_ACU': 0.9117621719837189,\n",
       "   'AutoACU_recall': 1.0,\n",
       "   'AutoACU_f1': 0.5333333332942222,\n",
       "   'METEOR': 0.4392251951800347,\n",
       "   'ChrF': 44.34954374766294,\n",
       "   'SemiAutoACU': 1.0,\n",
       "   'GEval': 5,\n",
       "   'AutoQAPyramid': 1.0,\n",
       "   'SemiAutoQAPyramid': 1.0,\n",
       "   'nAutoQAPyramid': 0.9286029058931803,\n",
       "   'nSemiAutoQAPyramid': 0.9286029058931803}}}"
      ]
     },
     "execution_count": 5,
     "metadata": {},
     "output_type": "execute_result"
    }
   ],
   "source": [
    "dataset[0]"
   ]
  },
  {
   "cell_type": "markdown",
   "id": "a5bd63dd-0859-48c2-8a60-4230c600896e",
   "metadata": {},
   "source": [
    "## Get the 50 examples th with QA labels "
   ]
  },
  {
   "cell_type": "code",
   "execution_count": 6,
   "id": "1b71fb46-d78a-4887-856b-57f6a496515c",
   "metadata": {},
   "outputs": [
    {
     "data": {
      "text/plain": [
       "50"
      ]
     },
     "execution_count": 6,
     "metadata": {},
     "output_type": "execute_result"
    }
   ],
   "source": [
    "subset = [example for example in dataset if example[\"QA_labels\"][\"bart\"]]\n",
    "len(subset)"
   ]
  },
  {
   "cell_type": "markdown",
   "id": "894f48af-4d46-4e20-82ac-5da3f5614c1a",
   "metadata": {},
   "source": [
    "## Calculate the average metric scores of each system"
   ]
  },
  {
   "cell_type": "code",
   "execution_count": 7,
   "id": "d29bd43c-f073-4bea-957f-a221f3a1e44b",
   "metadata": {},
   "outputs": [
    {
     "data": {
      "text/plain": [
       "['bart',\n",
       " 'pegasus',\n",
       " 'brio',\n",
       " 'brio-ext',\n",
       " 'matchsum',\n",
       " 'mixtral-8x22b-instruct-v0.1',\n",
       " 'llama-3-8b-instruct',\n",
       " 'GPT4',\n",
       " 'llama-3-70b-instruct',\n",
       " 'mixtral-8x7b-instruct-v0.1']"
      ]
     },
     "execution_count": 7,
     "metadata": {},
     "output_type": "execute_result"
    }
   ],
   "source": [
    "systems = [system for system in subset[0][\"system_scores\"]]\n",
    "systems"
   ]
  },
  {
   "cell_type": "code",
   "execution_count": 8,
   "id": "d8b125b7-45eb-4331-8722-0203a113feb0",
   "metadata": {},
   "outputs": [],
   "source": [
    "finetuned_systems = ['bart', 'pegasus', 'brio', 'brio-ext', 'matchsum']\n",
    "llm_systems = ['llama-3-8b-instruct', 'llama-3-70b-instruct', \n",
    "               'mixtral-8x7b-instruct-v0.1', 'mixtral-8x22b-instruct-v0.1', 'GPT4']"
   ]
  },
  {
   "cell_type": "code",
   "execution_count": 36,
   "id": "9b5c6acd-e7bb-405d-aff4-16926505dcfa",
   "metadata": {},
   "outputs": [
    {
     "data": {
      "text/plain": [
       "['QAPyramid',\n",
       " 'nQAPyramid',\n",
       " 'p_r',\n",
       " 'p_l',\n",
       " 'R1_recall',\n",
       " 'R1_f1',\n",
       " 'R2_recall',\n",
       " 'R2_f1',\n",
       " 'RL_recall',\n",
       " 'RL_f1',\n",
       " 'ACU',\n",
       " 'nACU',\n",
       " 'BERTScore_recall',\n",
       " 'BERTScore_f1',\n",
       " 'BARTScore',\n",
       " 'Lite3Pyramid',\n",
       " 'Lite2Pyramid_w_ACU',\n",
       " 'AutoACU_recall',\n",
       " 'AutoACU_f1',\n",
       " 'METEOR',\n",
       " 'ChrF',\n",
       " 'SemiAutoACU',\n",
       " 'GEval',\n",
       " 'AutoQAPyramid',\n",
       " 'SemiAutoQAPyramid',\n",
       " 'nAutoQAPyramid',\n",
       " 'nSemiAutoQAPyramid']"
      ]
     },
     "execution_count": 36,
     "metadata": {},
     "output_type": "execute_result"
    }
   ],
   "source": [
    "metrics = [metric for metric in subset[0][\"system_scores\"][\"bart\"]]\n",
    "metrics"
   ]
  },
  {
   "cell_type": "code",
   "execution_count": 9,
   "id": "34ba85f8-a65c-4e3d-8ca3-1a66b8d2e41d",
   "metadata": {},
   "outputs": [],
   "source": [
    "human_metrics = ['ACU', 'nACU', 'QAPyramid', 'nQAPyramid']\n",
    "semi_auto_metrics = ['SemiAutoACU', 'Lite2Pyramid_w_ACU', 'SemiAutoQAPyramid', 'nSemiAutoQAPyramid']\n",
    "auto_metrics = ['R1_recall', 'R1_f1', 'R2_recall', 'R2_f1', 'RL_recall', 'RL_f1', 'METEOR', 'ChrF', 'BERTScore_recall',\n",
    "                'BERTScore_f1', 'BARTScore', 'GEval', 'AutoACU_recall', 'AutoACU_f1', 'Lite3Pyramid', 'AutoQAPyramid',\n",
    "                'nAutoQAPyramid']"
   ]
  },
  {
   "cell_type": "code",
   "execution_count": 82,
   "id": "874848f7-f6ee-4a2e-b194-aed2a0ccd14c",
   "metadata": {},
   "outputs": [],
   "source": [
    "rows = []\n",
    "metric_scores_map = {}\n",
    "for metric in human_metrics + semi_auto_metrics + auto_metrics:\n",
    "    metric_scores = []\n",
    "    for system in finetuned_systems + llm_systems:\n",
    "        if metric in subset[0][\"system_scores\"][system]:\n",
    "            score = np.mean([example[\"system_scores\"][system][metric] for example in subset])\n",
    "        else:\n",
    "            score = \"-\"\n",
    "        metric_scores.append(score)\n",
    "    metric_scores_map[metric] = metric_scores\n",
    "    metric_scores = [metric] + list(map(lambda x: round(x, 2) if x != \"-\" else x, metric_scores))\n",
    "    rows.append(metric_scores)\n",
    "headers = ['System'] + finetuned_systems + ['llama3-8b', 'llama3-70b', 'mixtral-8x7b', 'mixtral-8x22b', 'GPT4']"
   ]
  },
  {
   "cell_type": "code",
   "execution_count": 83,
   "id": "de46350a-d745-4e05-aa20-f2cc144eae18",
   "metadata": {},
   "outputs": [
    {
     "name": "stdout",
     "output_type": "stream",
     "text": [
      "System                bart    pegasus    brio    brio-ext    matchsum  llama3-8b    llama3-70b    mixtral-8x7b    mixtral-8x22b    GPT4\n",
      "------------------  ------  ---------  ------  ----------  ----------  -----------  ------------  --------------  ---------------  ------\n",
      "ACU                   0.37       0.35    0.43        0.41        0.41  -            -             -               -                -\n",
      "nACU                  0.29       0.3     0.35        0.32        0.31  -            -             -               -                -\n",
      "QAPyramid             0.51       0.46    0.56        0.55        0.5   0.54         0.53          0.48            0.48             0.55\n",
      "nQAPyramid            0.47       0.44    0.53        0.52        0.46  0.4          0.47          0.45            0.44             0.46\n",
      "SemiAutoACU           0.36       0.35    0.43        0.41        0.38  0.38         0.35          0.31            0.37             0.37\n",
      "Lite2Pyramid_w_ACU    0.45       0.43    0.5         0.49        0.46  0.44         0.44          0.4             0.44             0.5\n",
      "SemiAutoQAPyramid     0.47       0.41    0.52        0.51        0.46  0.5          0.48          0.45            0.46             0.51\n",
      "nSemiAutoQAPyramid    0.44       0.39    0.49        0.47        0.43  0.36         0.44          0.42            0.42             0.43\n",
      "R1_recall             0.49       0.48    0.54        0.51        0.51  0.55         0.5           0.46            0.5              0.52\n",
      "R1_f1                 0.42       0.44    0.47        0.44        0.42  0.34         0.39          0.4             0.41             0.36\n",
      "R2_recall             0.23       0.23    0.27        0.25        0.25  0.23         0.18          0.19            0.23             0.19\n",
      "R2_f1                 0.2        0.21    0.24        0.22        0.21  0.14         0.14          0.17            0.18             0.13\n",
      "RL_recall             0.34       0.34    0.37        0.33        0.34  0.36         0.31          0.3             0.33             0.33\n",
      "RL_f1                 0.29       0.31    0.32        0.29        0.28  0.21         0.24          0.26            0.27             0.23\n",
      "METEOR                0.29       0.29    0.32        0.31        0.3   0.26         0.27          0.26            0.29             0.27\n",
      "ChrF                 38.51      37.77   40.8        40.05       39.34  34.3         37.86         36.27           38.61            37.96\n",
      "BERTScore_recall      0.88       0.88    0.89        0.88        0.88  0.89         0.89          0.88            0.88             0.88\n",
      "BERTScore_f1          0.88       0.88    0.89        0.88        0.88  0.87         0.88          0.88            0.88             0.87\n",
      "BARTScore            -3.65      -3.69   -3.45       -3.55       -3.62  -3.54        -3.67         -3.7            -3.63            -3.65\n",
      "GEval                 2.44       2.36    2.74        2.86        2.58  2.72         2.66          2.68            2.82             2.76\n",
      "AutoACU_recall        0.34       0.32    0.4         0.42        0.38  0.35         0.36          0.29            0.36             0.36\n",
      "AutoACU_f1            0.23       0.24    0.29        0.32        0.29  0.24         0.25          0.23            0.28             0.22\n",
      "Lite3Pyramid          0.45       0.41    0.49        0.48        0.44  0.44         0.45          0.39            0.43             0.49\n",
      "AutoQAPyramid         0.45       0.43    0.5         0.51        0.45  0.45         0.44          0.4             0.43             0.46\n",
      "nAutoQAPyramid        0.41       0.41    0.47        0.47        0.41  0.33         0.4           0.38            0.39             0.39\n"
     ]
    }
   ],
   "source": [
    "print(tabulate(rows, headers=headers))"
   ]
  },
  {
   "cell_type": "markdown",
   "id": "574b65d4-ee5b-4c1c-8ce3-f406074b5463",
   "metadata": {},
   "source": [
    "## Meta-evalution: get the correlations between QAPyramid and other metrics"
   ]
  },
  {
   "cell_type": "markdown",
   "id": "67efb3b5-b562-4fa0-b4cf-2d62006a705f",
   "metadata": {},
   "source": [
    "### system-level correlation"
   ]
  },
  {
   "cell_type": "code",
   "execution_count": 84,
   "id": "cb9d723c-affc-4da2-8850-d59335374a66",
   "metadata": {},
   "outputs": [],
   "source": [
    "from scipy import stats\n",
    "\n",
    "metrics = ['ACU', 'SemiAutoACU', 'Lite2Pyramid_w_ACU', 'SemiAutoQAPyramid', 'R1_recall', \n",
    "           'R2_recall', 'RL_recall', 'METEOR', 'ChrF', 'BERTScore_recall', 'BARTScore', \n",
    "           'GEval', 'AutoACU_recall', 'Lite3Pyramid', 'AutoQAPyramid']"
   ]
  },
  {
   "cell_type": "code",
   "execution_count": 85,
   "id": "80e688c5-5e69-482d-883f-70abf30a866b",
   "metadata": {},
   "outputs": [
    {
     "name": "stdout",
     "output_type": "stream",
     "text": [
      "Metric                correlation (FT)  correlation (LLM)    correlation (All)\n",
      "------------------  ------------------  -------------------  -------------------\n",
      "ACU                                0.8  -                    -\n",
      "SemiAutoACU                        0.8  0.2                  0.556\n",
      "Lite2Pyramid_w_ACU                 0.8  0.2                  0.467\n",
      "SemiAutoQAPyramid                  1    0.8                  0.956\n",
      "R1_recall                          0.8  0.4                  0.556\n",
      "R2_recall                          0.6  -0.2                 0.156\n",
      "RL_recall                         -0.2  0.2                  0.156\n",
      "METEOR                             0.8  -0.2                 0.2\n",
      "ChrF                               0.8  -0.2                 0.289\n",
      "BERTScore_recall                   0.8  0.2                  0.289\n",
      "BARTScore                          0.8  0.2                  0.467\n",
      "GEval                              0.6  0.0                  0.422\n",
      "AutoACU_recall                     0.6  0.2                  0.511\n",
      "Lite3Pyramid                       1    0.6                  0.689\n",
      "AutoQAPyramid                      0.6  0.8                  0.733\n"
     ]
    }
   ],
   "source": [
    "QAPyramid_scores = metric_scores_map[\"QAPyramid\"]\n",
    "rows = []\n",
    "for metric in metrics:\n",
    "    metric_scores = metric_scores_map[metric]\n",
    "    corr_ft = str(round(stats.kendalltau(QAPyramid_scores[:5], metric_scores[:5]).statistic, 3))\n",
    "    corr_llm, corr_all = '-', '-'\n",
    "    if metric != 'ACU':\n",
    "        corr_llm = str(round(stats.kendalltau(QAPyramid_scores[5:], metric_scores[5:]).statistic, 3))\n",
    "        corr_all = str(round(stats.kendalltau(QAPyramid_scores, metric_scores).statistic, 3))\n",
    "    rows.append([metric, corr_ft, corr_llm, corr_all])\n",
    "print(tabulate(rows, headers=['Metric', 'correlation (FT)', 'correlation (LLM)', 'correlation (All)']))"
   ]
  },
  {
   "cell_type": "markdown",
   "id": "63ce3cbf-ff6c-43c0-aa9b-0c00db0d7629",
   "metadata": {},
   "source": [
    "## summary-level correlation"
   ]
  },
  {
   "cell_type": "code",
   "execution_count": 94,
   "id": "a6aab414-c5bf-4665-b295-8bf6129932ee",
   "metadata": {},
   "outputs": [
    {
     "name": "stdout",
     "output_type": "stream",
     "text": [
      "Metric                correlation (FT)  correlation (LLM)    correlation (All)\n",
      "------------------  ------------------  -------------------  -------------------\n",
      "ACU                              0.435  -                    -\n",
      "SemiAutoACU                      0.508  0.35                 0.476\n",
      "Lite2Pyramid_w_ACU               0.503  0.501                0.564\n",
      "SemiAutoQAPyramid                0.603  0.537                0.63\n",
      "R1_recall                        0.459  0.437                0.5\n",
      "R2_recall                        0.445  0.378                0.398\n",
      "RL_recall                        0.351  0.354                0.38\n",
      "METEOR                           0.448  0.293                0.405\n",
      "ChrF                             0.461  0.293                0.423\n",
      "BERTScore_recall                 0.471  0.384                0.449\n",
      "BARTScore                        0.47   0.459                0.507\n",
      "GEval                            0.289  0.279                0.366\n",
      "AutoACU_recall                   0.444  0.394                0.476\n",
      "Lite3Pyramid                     0.46   0.467                0.558\n",
      "AutoQAPyramid                    0.508  0.51                 0.549\n"
     ]
    }
   ],
   "source": [
    "corr_fts = {metric: [] for metric in metrics}\n",
    "corr_llms = {metric: [] for metric in metrics}\n",
    "corr_alls = {metric: [] for metric in metrics}\n",
    "for example in subset:\n",
    "    metric_scores_map = {}\n",
    "    for metric in [\"QAPyramid\"] + metrics:\n",
    "        metric_scores = []\n",
    "        for system in finetuned_systems + llm_systems:\n",
    "            if metric in subset[0][\"system_scores\"][system]:\n",
    "                score = example[\"system_scores\"][system][metric]\n",
    "            else:\n",
    "                score = \"-\"\n",
    "            metric_scores.append(score)\n",
    "        metric_scores_map[metric] = metric_scores\n",
    "    QAPyramid_scores = metric_scores_map[\"QAPyramid\"]\n",
    "    for metric in metrics:\n",
    "        metric_scores = metric_scores_map[metric]\n",
    "        corr_ft = stats.kendalltau(QAPyramid_scores[:5], metric_scores[:5]).statistic\n",
    "        corr_llm, corr_all = '-', '-'\n",
    "        if metric != 'ACU':\n",
    "            corr_llm = stats.kendalltau(QAPyramid_scores[5:], metric_scores[5:]).statistic\n",
    "            corr_all = stats.kendalltau(QAPyramid_scores, metric_scores).statistic\n",
    "        corr_fts[metric].append(corr_ft if corr_ft == \"-\" or not np.isnan(corr_ft) else 0)\n",
    "        corr_llms[metric].append(corr_llm if corr_llm == \"-\" or not np.isnan(corr_llm) else 0)\n",
    "        corr_alls[metric].append(corr_all if corr_all == \"-\" or not np.isnan(corr_all) else 0) \n",
    "rows = []\n",
    "for metric in metrics:\n",
    "    rows.append([metric, round(np.mean(corr_fts[metric]), 3), \n",
    "                 round(np.mean(corr_llms[metric]), 3) if metric != \"ACU\" else \"-\", \n",
    "                 round(np.mean(corr_alls[metric]), 3) if metric != \"ACU\" else \"-\"])\n",
    "print(tabulate(rows, headers=['Metric', 'correlation (FT)', 'correlation (LLM)', 'correlation (All)']))"
   ]
  },
  {
   "cell_type": "code",
   "execution_count": null,
   "id": "59142e81-cdc7-45c5-aa39-58b28e58957a",
   "metadata": {},
   "outputs": [],
   "source": []
  }
 ],
 "metadata": {
  "kernelspec": {
   "display_name": "Python 3 (ipykernel)",
   "language": "python",
   "name": "python3"
  },
  "language_info": {
   "codemirror_mode": {
    "name": "ipython",
    "version": 3
   },
   "file_extension": ".py",
   "mimetype": "text/x-python",
   "name": "python",
   "nbconvert_exporter": "python",
   "pygments_lexer": "ipython3",
   "version": "3.9.6"
  }
 },
 "nbformat": 4,
 "nbformat_minor": 5
}
